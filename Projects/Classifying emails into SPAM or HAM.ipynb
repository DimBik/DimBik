{
 "cells": [
  {
   "cell_type": "code",
   "execution_count": 2,
   "id": "1952365d",
   "metadata": {},
   "outputs": [],
   "source": [
    "# Dimitrios Bikoulis\n",
    "# Student number: R00209268\n",
    "# Libraries we are going to use for this assignment\n",
    "import numpy as np\n",
    "import glob\n",
    "import pandas as pd\n",
    "import sklearn\n",
    "import sklearn.model_selection\n",
    "import matplotlib.pyplot as plt\n",
    "import re\n",
    "import random as rd\n",
    "import nltk #nltk.download('stopwords')\n",
    "from nltk.corpus import stopwords"
   ]
  },
  {
   "cell_type": "code",
   "execution_count": 3,
   "id": "991f56c9",
   "metadata": {},
   "outputs": [],
   "source": [
    "#FUNCTIONS\n",
    "def lowcase(x):\n",
    "    return x.lower() #it returns the text without capital leters\n",
    "\n",
    "def dell1(x):#A different approach can be used creating only 2 lines of code and the library re. However, the code was found on the internet and I prefered to use my own code. The computational cost is higher than the 2 lines of code as two loops were used \n",
    "    global set1 #Global to have access to the variable set1 which is outside of the function\n",
    "    ll=['a','b','c','d','e','f','g','h','i','j','k','l','m','n','o','p','q','r','s','t','u','v','w','x','y','z',' ','0','1','2','3','4','5','6','7','8','9'] #We create a list with the characters that we dont want to delete them\n",
    "    for i in list(set1) :#A for loop in the set1 as a list. set gives each character without duplications occured in all the emails. It was created using union. A set for each email was created and we used union to link them toghether\n",
    "        if i in ll :#If it is in the list we pass \n",
    "            pass\n",
    "        else:#If not we replace the character which is not in the list with a space character\n",
    "            x=x.replace(i,\"\")\n",
    "    i=0 #We initialize a variable with value 0 which is gonna be our step\n",
    "    while i<len(x)-1: #If it is less than len(x, x is a character)-1 we break the while. -1 was used for not getting out of bounds error as i+1 is used as an index in the if statement below\n",
    "        if x[i]==' ' and x[i+1]==' ':#If two consequtive characters are equal to space we have to delete one of them\n",
    "            x=x[0:i]+x[i+1:]#We delete it by ignoring it. we add two strings object from the beginning to i(which is not included as it is the space we want to delete) + from i+1 to end\n",
    "            x=x+'1'#we add a random character to avoid changing its length\n",
    "            i=i-1 #We subtract 1 to check again the same gap taking into account that step will be applied on the next row(it is used when we have more than one gaps in a row) \n",
    "        i=i+1 # and the step which will lead us to break the loop\n",
    "    return x.replace('1','') # finally we replace with blank all the 'ones' which were added to the string to keep the same length. The result is returned \n",
    "\n",
    "def numofwords(x):#We ask for the user to give ham spam or all and it will return the unique words as a key and the number of occurances as a value of the dictionary, it also returns the total number of words for each category(ham,spam or all)\n",
    "    if x=='ham':#if they choose ham\n",
    "        ind=0 \n",
    "        forl=y_train[y_train['target']==ind].index #forl takes the index of the dataset whose emails are ham (in the dataset emails with ham are zero and emails with spam are 1)\n",
    "    elif x=='spam':\n",
    "        ind=1\n",
    "        forl=y_train[y_train['target']==ind].index #same as above the difference is that the forl has the indexes for emails which are spam\n",
    "    else:\n",
    "        forl=y_train.index #if not ham or spam is selected it returns the index of each emails\n",
    "    k={} #an empty dictionary which is gonna be the dictionary that the function returns.\n",
    "    lex=stopwords.words('english') #We pass into lex the stopwords for english language\n",
    "    numberofwords=0 #the counter which determines the total number of words\n",
    "    for i in forl: #We run a for, i will take all the indexes\n",
    "        for j in x_train['emails'][i].split(): #we run a second for loop. j will take the words (because split was used) in a specific email(it depends on the first for loop). \n",
    "            numberofwords=numberofwords+1 # we add one to the counter\n",
    "            if j in k: #if j is in k (which is the dictionary the function will return)\n",
    "                k[j]=k[j]+1 #we add one to the value(number of occurances). When it goes into this if statement means that the word has already been added in the dictionary\n",
    "            else: #if j is not in the dictionary(means that the word is new and does not exist for the moment)\n",
    "                if j in lex: #if j is in lex which is the stopwords\n",
    "                    pass #we pass which means that we do nothing\n",
    "                else: #otherwise\n",
    "                    if len(j)!=1: #if the length of the word is not 1 (words with only one letter are useless so we delete them)\n",
    "                        k[j]=1 #add the word on the dictionary as a key with value 1 as it is the first time that we get this word\n",
    "    return k,numberofwords #retun the number of words and the dictionary. It is a tuple\n",
    "\n"
   ]
  },
  {
   "cell_type": "code",
   "execution_count": 4,
   "id": "8c4dcae7",
   "metadata": {},
   "outputs": [],
   "source": [
    "path=r'C:\\Users\\jimbi\\OneDrive\\Desktop\\Semester 2\\Applied Machine Learning\\Assignement 1\\enron1\\ham\\*.txt'#star was used to get all the files with an extension .txt\n",
    "ham=[]#Two empty lists\n",
    "target=[]\n",
    "for i in glob.glob(path):#glob function will return all the documents with an extension .txt in ham dictionary and running the for loop, i will be the path for each document in each step \n",
    "    file=open(i,'r')#We open the file only to read it\n",
    "    ham.append(file.read())#we append to the list ham the content of the txt file\n",
    "    target.append(0)#we create a list with zeros to create the dataframe\n",
    "    file.close()#We close each file as it wont be used anymore\n",
    "path=r'C:\\Users\\jimbi\\OneDrive\\Desktop\\Semester 2\\Applied Machine Learning\\Assignement 1\\enron1\\spam\\*.txt'\n",
    "for i in glob.glob(path):\n",
    "    file=open(i,'r',encoding='latin1')\n",
    "    ham.append(file.read())\n",
    "    target.append(1)\n",
    "    file.close"
   ]
  },
  {
   "cell_type": "code",
   "execution_count": 5,
   "id": "b90dd616",
   "metadata": {},
   "outputs": [],
   "source": [
    "df_emails=pd.DataFrame({'emails':ham,'target':target})#We create a dataframe with names of columns as emails and target with the containt of the emails and zero respectively\n",
    "df=df_emails['emails'].apply(lowcase) # we apply lower case to each email, it is the function we created above\n",
    "set1=set() #we create an empty set.\n",
    "for i in range(len(df_emails['emails'])): #we run a for in the range of the length of the dataframe\n",
    "    set1=set1.union(set(df_emails['emails'][i])) #we use the union function. when the for loop stops we will have all the letters and special characters in the set. We dont pass it into the function dell1, because in the function dell1 the set1 is changed into global\n",
    "df_emails['emails']=df.apply(dell1)# we apply the first two functions to clean the dataset"
   ]
  },
  {
   "cell_type": "code",
   "execution_count": 6,
   "id": "13d25513",
   "metadata": {},
   "outputs": [],
   "source": [
    "df_emails=pd.DataFrame({'emails':ham,'target':target})#We create a dataframe with names of columns as emails and target with the containt of the emails and zero respectively\n",
    "df=df_emails['emails'].apply(lowcase) #a different approach to delete the special characters\n",
    "ham1=[re.sub(r'[^a-z0-9]',\" \",string) for string in df] #we delete all the letters that they are not from a to z and 0 to 9\n",
    "ham2=[re.sub(r'\\s\\s+',\" \",string) for string in ham1] #we delete the spaces\n",
    "df_emails=pd.DataFrame({'emails':ham2,'target':target}) #we create a dataframe\n"
   ]
  },
  {
   "cell_type": "code",
   "execution_count": 7,
   "id": "096c29e4",
   "metadata": {},
   "outputs": [
    {
     "data": {
      "text/html": [
       "<div>\n",
       "<style scoped>\n",
       "    .dataframe tbody tr th:only-of-type {\n",
       "        vertical-align: middle;\n",
       "    }\n",
       "\n",
       "    .dataframe tbody tr th {\n",
       "        vertical-align: top;\n",
       "    }\n",
       "\n",
       "    .dataframe thead th {\n",
       "        text-align: right;\n",
       "    }\n",
       "</style>\n",
       "<table border=\"1\" class=\"dataframe\">\n",
       "  <thead>\n",
       "    <tr style=\"text-align: right;\">\n",
       "      <th></th>\n",
       "      <th>index</th>\n",
       "      <th>emails</th>\n",
       "      <th>target</th>\n",
       "    </tr>\n",
       "  </thead>\n",
       "  <tbody>\n",
       "    <tr>\n",
       "      <th>0</th>\n",
       "      <td>1621</td>\n",
       "      <td>subject agua dulce and thompsonville products ...</td>\n",
       "      <td>0</td>\n",
       "    </tr>\n",
       "    <tr>\n",
       "      <th>1</th>\n",
       "      <td>3363</td>\n",
       "      <td>subject re epgt daren what about february 2000...</td>\n",
       "      <td>0</td>\n",
       "    </tr>\n",
       "    <tr>\n",
       "      <th>2</th>\n",
       "      <td>3277</td>\n",
       "      <td>subject re no actual vols for 5 22 01 we agree...</td>\n",
       "      <td>0</td>\n",
       "    </tr>\n",
       "    <tr>\n",
       "      <th>3</th>\n",
       "      <td>5101</td>\n",
       "      <td>subject cheap soft cialis tabs these pills are...</td>\n",
       "      <td>1</td>\n",
       "    </tr>\n",
       "    <tr>\n",
       "      <th>4</th>\n",
       "      <td>336</td>\n",
       "      <td>subject meter 986315 torch rally el sordo 1 00...</td>\n",
       "      <td>0</td>\n",
       "    </tr>\n",
       "    <tr>\n",
       "      <th>...</th>\n",
       "      <td>...</td>\n",
       "      <td>...</td>\n",
       "      <td>...</td>\n",
       "    </tr>\n",
       "    <tr>\n",
       "      <th>5167</th>\n",
       "      <td>3497</td>\n",
       "      <td>subject september cellular the following expen...</td>\n",
       "      <td>0</td>\n",
       "    </tr>\n",
       "    <tr>\n",
       "      <th>5168</th>\n",
       "      <td>3492</td>\n",
       "      <td>subject fw intrastate gas stacy could we add t...</td>\n",
       "      <td>0</td>\n",
       "    </tr>\n",
       "    <tr>\n",
       "      <th>5169</th>\n",
       "      <td>2177</td>\n",
       "      <td>subject cornhusker daren re the email below fr...</td>\n",
       "      <td>0</td>\n",
       "    </tr>\n",
       "    <tr>\n",
       "      <th>5170</th>\n",
       "      <td>3557</td>\n",
       "      <td>subject pricing needed citgo refinery corpus s...</td>\n",
       "      <td>0</td>\n",
       "    </tr>\n",
       "    <tr>\n",
       "      <th>5171</th>\n",
       "      <td>4578</td>\n",
       "      <td>subject bounce skel iit demokritos gr non memb...</td>\n",
       "      <td>1</td>\n",
       "    </tr>\n",
       "  </tbody>\n",
       "</table>\n",
       "<p>5172 rows × 3 columns</p>\n",
       "</div>"
      ],
      "text/plain": [
       "      index                                             emails  target\n",
       "0      1621  subject agua dulce and thompsonville products ...       0\n",
       "1      3363  subject re epgt daren what about february 2000...       0\n",
       "2      3277  subject re no actual vols for 5 22 01 we agree...       0\n",
       "3      5101  subject cheap soft cialis tabs these pills are...       1\n",
       "4       336  subject meter 986315 torch rally el sordo 1 00...       0\n",
       "...     ...                                                ...     ...\n",
       "5167   3497  subject september cellular the following expen...       0\n",
       "5168   3492  subject fw intrastate gas stacy could we add t...       0\n",
       "5169   2177  subject cornhusker daren re the email below fr...       0\n",
       "5170   3557  subject pricing needed citgo refinery corpus s...       0\n",
       "5171   4578  subject bounce skel iit demokritos gr non memb...       1\n",
       "\n",
       "[5172 rows x 3 columns]"
      ]
     },
     "execution_count": 7,
     "metadata": {},
     "output_type": "execute_result"
    }
   ],
   "source": [
    "np.random.seed(12345) # we set the seed to take the same results every time we run the code\n",
    "shufle_df=df_emails.sample(frac=1).reset_index() #we shufle the dataset and reset the index. it reduces the bias as we dont have ham and spam emails in a specific location (ham used to be at the first x rows and spam at the last n-x rows)\n",
    "shufle_df"
   ]
  },
  {
   "cell_type": "code",
   "execution_count": 191,
   "id": "3347513f",
   "metadata": {},
   "outputs": [
    {
     "name": "stdout",
     "output_type": "stream",
     "text": [
      "3672\n",
      "1500\n"
     ]
    }
   ],
   "source": [
    "print(len(shufle_df['target'][shufle_df['target']==0]))\n",
    "print(len(shufle_df['target'][shufle_df['target']==1]))"
   ]
  },
  {
   "cell_type": "code",
   "execution_count": 8,
   "id": "46e114c8",
   "metadata": {},
   "outputs": [],
   "source": [
    "x_train, x_test, y_train, y_test = sklearn.model_selection.train_test_split(shufle_df,shufle_df.iloc[:,2],test_size=0.3) #We split the dataset into train and test"
   ]
  },
  {
   "cell_type": "code",
   "execution_count": 9,
   "id": "6fda121b",
   "metadata": {},
   "outputs": [],
   "source": [
    "x_test=x_test.reset_index() # we reset the index in each one in order to avoid having problem with for loops\n",
    "y_test=y_test.reset_index()\n",
    "x_train=x_train.reset_index()\n",
    "y_train=y_train.reset_index()"
   ]
  },
  {
   "cell_type": "code",
   "execution_count": null,
   "id": "83402ee4",
   "metadata": {},
   "outputs": [],
   "source": [
    "#print(len(ham[0]))\n",
    "#print(len(spam[0]))\n",
    "#print(len(bagofwords[0]))\n",
    "#del train['index']\n",
    "#train=train.reset_index"
   ]
  },
  {
   "cell_type": "code",
   "execution_count": 10,
   "id": "90ddf983",
   "metadata": {},
   "outputs": [],
   "source": [
    "ham=numofwords('ham') #we call the function numofwords for ham emails\n",
    "spam=numofwords('spam') #same for spam\n",
    "bagofwords=numofwords('all') #same for all. This variable it will also be the bag of words or vocabulary "
   ]
  },
  {
   "cell_type": "code",
   "execution_count": 11,
   "id": "94256b08",
   "metadata": {},
   "outputs": [],
   "source": [
    "seriestot=pd.Series(bagofwords[0],index=bagofwords[0].keys()) #we create 3 series. the index is the words and the column is the number of occurances for each word-index\n",
    "seriesham=pd.Series(ham[0],index=ham[0].keys())\n",
    "seriesspma=pd.Series(spam[0],index=spam[0].keys())\n"
   ]
  },
  {
   "cell_type": "code",
   "execution_count": 12,
   "id": "4ef52c7e",
   "metadata": {},
   "outputs": [
    {
     "data": {
      "text/html": [
       "<div>\n",
       "<style scoped>\n",
       "    .dataframe tbody tr th:only-of-type {\n",
       "        vertical-align: middle;\n",
       "    }\n",
       "\n",
       "    .dataframe tbody tr th {\n",
       "        vertical-align: top;\n",
       "    }\n",
       "\n",
       "    .dataframe thead th {\n",
       "        text-align: right;\n",
       "    }\n",
       "</style>\n",
       "<table border=\"1\" class=\"dataframe\">\n",
       "  <thead>\n",
       "    <tr style=\"text-align: right;\">\n",
       "      <th></th>\n",
       "      <th>total</th>\n",
       "      <th>ham</th>\n",
       "      <th>spam</th>\n",
       "    </tr>\n",
       "  </thead>\n",
       "  <tbody>\n",
       "    <tr>\n",
       "      <th>00</th>\n",
       "      <td>1779</td>\n",
       "      <td>1370.0</td>\n",
       "      <td>409.0</td>\n",
       "    </tr>\n",
       "    <tr>\n",
       "      <th>000</th>\n",
       "      <td>1449</td>\n",
       "      <td>1268.0</td>\n",
       "      <td>181.0</td>\n",
       "    </tr>\n",
       "    <tr>\n",
       "      <th>0000</th>\n",
       "      <td>8</td>\n",
       "      <td>4.0</td>\n",
       "      <td>4.0</td>\n",
       "    </tr>\n",
       "    <tr>\n",
       "      <th>000000</th>\n",
       "      <td>75</td>\n",
       "      <td>0.0</td>\n",
       "      <td>75.0</td>\n",
       "    </tr>\n",
       "    <tr>\n",
       "      <th>000000000002858</th>\n",
       "      <td>1</td>\n",
       "      <td>1.0</td>\n",
       "      <td>0.0</td>\n",
       "    </tr>\n",
       "    <tr>\n",
       "      <th>...</th>\n",
       "      <td>...</td>\n",
       "      <td>...</td>\n",
       "      <td>...</td>\n",
       "    </tr>\n",
       "    <tr>\n",
       "      <th>zzezrjok</th>\n",
       "      <td>1</td>\n",
       "      <td>0.0</td>\n",
       "      <td>1.0</td>\n",
       "    </tr>\n",
       "    <tr>\n",
       "      <th>zzo</th>\n",
       "      <td>1</td>\n",
       "      <td>0.0</td>\n",
       "      <td>1.0</td>\n",
       "    </tr>\n",
       "    <tr>\n",
       "      <th>zzocb</th>\n",
       "      <td>1</td>\n",
       "      <td>0.0</td>\n",
       "      <td>1.0</td>\n",
       "    </tr>\n",
       "    <tr>\n",
       "      <th>zzso</th>\n",
       "      <td>1</td>\n",
       "      <td>0.0</td>\n",
       "      <td>1.0</td>\n",
       "    </tr>\n",
       "    <tr>\n",
       "      <th>zzsyt</th>\n",
       "      <td>1</td>\n",
       "      <td>0.0</td>\n",
       "      <td>1.0</td>\n",
       "    </tr>\n",
       "  </tbody>\n",
       "</table>\n",
       "<p>39880 rows × 3 columns</p>\n",
       "</div>"
      ],
      "text/plain": [
       "                 total     ham   spam\n",
       "00                1779  1370.0  409.0\n",
       "000               1449  1268.0  181.0\n",
       "0000                 8     4.0    4.0\n",
       "000000              75     0.0   75.0\n",
       "000000000002858      1     1.0    0.0\n",
       "...                ...     ...    ...\n",
       "zzezrjok             1     0.0    1.0\n",
       "zzo                  1     0.0    1.0\n",
       "zzocb                1     0.0    1.0\n",
       "zzso                 1     0.0    1.0\n",
       "zzsyt                1     0.0    1.0\n",
       "\n",
       "[39880 rows x 3 columns]"
      ]
     },
     "execution_count": 12,
     "metadata": {},
     "output_type": "execute_result"
    }
   ],
   "source": [
    "df_fin=pd.DataFrame({'total':seriestot,\"ham\":seriesham,\"spam\":seriesspma}) #we create a dataframe with the series above\n",
    "df_fin=df_fin.fillna(0) # we impute missing values with zero\n",
    "df_fin"
   ]
  },
  {
   "cell_type": "code",
   "execution_count": 13,
   "id": "faed357d",
   "metadata": {},
   "outputs": [
    {
     "name": "stdout",
     "output_type": "stream",
     "text": [
      "ect        9828\n",
      "subject    5569\n",
      "hou        5134\n",
      "enron      4493\n",
      "2000       2975\n",
      "please     2211\n",
      "com        2109\n",
      "gas        1994\n",
      "deal       1873\n",
      "00         1779\n",
      "pm         1642\n",
      "cc         1607\n",
      "hpl        1601\n",
      "meter      1587\n",
      "000        1449\n",
      "2001       1441\n",
      "10         1429\n",
      "thanks     1297\n",
      "daren      1247\n",
      "01         1221\n",
      "Name: total, dtype: int64\n",
      "ect        9825.0\n",
      "hou        5134.0\n",
      "enron      4493.0\n",
      "subject    4418.0\n",
      "2000       2909.0\n",
      "gas        1869.0\n",
      "please     1861.0\n",
      "deal       1844.0\n",
      "pm         1632.0\n",
      "hpl        1601.0\n",
      "cc         1598.0\n",
      "meter      1587.0\n",
      "2001       1438.0\n",
      "00         1370.0\n",
      "com        1370.0\n",
      "000        1268.0\n",
      "daren      1247.0\n",
      "thanks     1236.0\n",
      "10         1190.0\n",
      "corp       1169.0\n",
      "Name: ham, dtype: float64\n",
      "subject        1151.0\n",
      "http            765.0\n",
      "com             739.0\n",
      "company         560.0\n",
      "td              484.0\n",
      "www             462.0\n",
      "font            450.0\n",
      "nbsp            418.0\n",
      "00              409.0\n",
      "information     401.0\n",
      "statements      375.0\n",
      "get             365.0\n",
      "height          361.0\n",
      "email           358.0\n",
      "please          350.0\n",
      "price           337.0\n",
      "us              337.0\n",
      "may             326.0\n",
      "new             316.0\n",
      "width           302.0\n",
      "Name: spam, dtype: float64\n"
     ]
    }
   ],
   "source": [
    "print(df_fin['total'].nlargest(20)) #we print the 20 most frequent words with the number of occurances for all emails, ham and spam\n",
    "print(df_fin['ham'].nlargest(20))\n",
    "print(df_fin['spam'].nlargest(20))"
   ]
  },
  {
   "cell_type": "code",
   "execution_count": 14,
   "id": "c3388fcf",
   "metadata": {},
   "outputs": [
    {
     "data": {
      "image/png": "[encoded data removed]",
      "text/plain": [
       "<Figure size 432x288 with 1 Axes>"
      ]
     },
     "metadata": {
      "needs_background": "light"
     },
     "output_type": "display_data"
    },
    {
     "data": {
      "image/png": "[encoded data removed]",
      "text/plain": [
       "<Figure size 432x288 with 1 Axes>"
      ]
     },
     "metadata": {
      "needs_background": "light"
     },
     "output_type": "display_data"
    }
   ],
   "source": [
    "#we perform EDA\n",
    "#Bar Plot for ham\n",
    "plt.barh(df_fin['ham'].nlargest(20).index,df_fin['ham'].nlargest(20)/ham[1],color='g')\n",
    "plt.title(\"Relative Frequency of Ham\")\n",
    "plt.show()\n",
    "#Bar Plot for spam\n",
    "plt.barh(df_fin['spam'].nlargest(20).index,df_fin['spam'].nlargest(20)/spam[1],color='r')\n",
    "plt.title(\"Relative Frequency of Spam\")\n",
    "plt.show()"
   ]
  },
  {
   "cell_type": "code",
   "execution_count": 15,
   "id": "1ed600cb",
   "metadata": {},
   "outputs": [],
   "source": [
    "lengthham=[] #an empty list in which we will place the length of each ham email(number of words)\n",
    "lengthspam=[] #an empty list in which we will place the length of each spam email(number of words)\n",
    "k=0 #a counter\n",
    "for i in x_train['emails']: #a for loop. in each iteration i will have the whole email\n",
    "    if x_train[\"target\"][k]==0: #each time the loop is executed the k gets larger by 1. with this approach we check each email if it is spam or ham to append it into different list.\n",
    "        lengthham.append(len(i.split())) #we append the length of the email (number of words) in the list\n",
    "    elif x_train[\"target\"][k]==1:\n",
    "        lengthspam.append(len(i.split()))\n",
    "    k+=1"
   ]
  },
  {
   "cell_type": "code",
   "execution_count": 160,
   "id": "c531bfe6",
   "metadata": {},
   "outputs": [
    {
     "data": {
      "image/png": "[encoded data removed]",
      "text/plain": [
       "<Figure size 432x288 with 1 Axes>"
      ]
     },
     "metadata": {
      "needs_background": "light"
     },
     "output_type": "display_data"
    },
    {
     "data": {
      "image/png": "[encoded data removed]",
      "text/plain": [
       "<Figure size 432x288 with 1 Axes>"
      ]
     },
     "metadata": {
      "needs_background": "light"
     },
     "output_type": "display_data"
    },
    {
     "data": {
      "image/png": "[encoded data removed]",
      "text/plain": [
       "<Figure size 432x288 with 1 Axes>"
      ]
     },
     "metadata": {
      "needs_background": "light"
     },
     "output_type": "display_data"
    }
   ],
   "source": [
    "for i in [2700,1000,500]: #a for loop which zooms in to the boxplots\n",
    "    plt.boxplot([[i for i in lengthham],[j for j in lengthspam]],patch_artist=True)\n",
    "    plt.xticks([1,2],['ham','spam'])\n",
    "    plt.ylim(0,i)\n",
    "    plt.show()"
   ]
  },
  {
   "cell_type": "code",
   "execution_count": 192,
   "id": "44cd5c4a",
   "metadata": {},
   "outputs": [
    {
     "data": {
      "image/png": "[encoded data removed]",
      "text/plain": [
       "<Figure size 432x288 with 1 Axes>"
      ]
     },
     "metadata": {
      "needs_background": "light"
     },
     "output_type": "display_data"
    }
   ],
   "source": [
    "plt.hist([[i for i in lengthham],[j for j in lengthspam]]) #two histograms were created using the increasing monotone function(transformation) y=x^(1/5)\n",
    "plt.plot([420]*700,list(range(700)))\n",
    "plt.show()"
   ]
  },
  {
   "cell_type": "code",
   "execution_count": 194,
   "id": "1f3dce91",
   "metadata": {},
   "outputs": [
    {
     "data": {
      "text/plain": [
       "[<matplotlib.lines.Line2D at 0x28da0fed670>]"
      ]
     },
     "execution_count": 194,
     "metadata": {},
     "output_type": "execute_result"
    },
    {
     "data": {
      "image/png": "[encoded data removed]",
      "text/plain": [
       "<Figure size 432x288 with 1 Axes>"
      ]
     },
     "metadata": {
      "needs_background": "light"
     },
     "output_type": "display_data"
    }
   ],
   "source": [
    "plt.plot([x for x in range(2500)],[y**(1/5) for y in range(2500)])"
   ]
  },
  {
   "cell_type": "code",
   "execution_count": 199,
   "id": "c21305fb",
   "metadata": {},
   "outputs": [
    {
     "data": {
      "text/plain": [
       "[<matplotlib.lines.Line2D at 0x28d9f64d8b0>]"
      ]
     },
     "execution_count": 199,
     "metadata": {},
     "output_type": "execute_result"
    },
    {
     "data": {
      "image/png": "[encoded data removed]",
      "text/plain": [
       "<Figure size 432x288 with 1 Axes>"
      ]
     },
     "metadata": {
      "needs_background": "light"
     },
     "output_type": "display_data"
    }
   ],
   "source": [
    "plt.plot([x for x in range(1,2500)],[(1/5)*y**(-4/5) for y in range(1,2500)])"
   ]
  },
  {
   "cell_type": "code",
   "execution_count": 187,
   "id": "7085591b",
   "metadata": {},
   "outputs": [
    {
     "data": {
      "image/png": "[encoded data removed]",
      "text/plain": [
       "<Figure size 432x288 with 1 Axes>"
      ]
     },
     "metadata": {
      "needs_background": "light"
     },
     "output_type": "display_data"
    }
   ],
   "source": [
    "import math # we import the library math to try some transformations\n",
    "plt.hist([[i**(1/5) for i in lengthham],[j**(1/5) for j in lengthspam]]) #two histograms were created using the increasing monotone function(transformation) y=x^(1/5)\n",
    "plt.plot([420**(1/5)]*700,list(range(700)))\n",
    "plt.show()"
   ]
  },
  {
   "cell_type": "code",
   "execution_count": 19,
   "id": "782b4451",
   "metadata": {},
   "outputs": [],
   "source": [
    "#After\n",
    "#Using its own vocabulary\n",
    "from sklearn.feature_extraction.text import CountVectorizer\n",
    "\n",
    "vec = CountVectorizer(ngram_range=(1,1)).fit(x_train['emails'])\n",
    "\n",
    "arr=vec.transform(x_train['emails']).toarray()\n",
    "arr1=vec.transform(x_test['emails']).toarray()\n"
   ]
  },
  {
   "cell_type": "code",
   "execution_count": 167,
   "id": "d58c1c4b",
   "metadata": {},
   "outputs": [
    {
     "name": "stdout",
     "output_type": "stream",
     "text": [
      "[[0.        0.        0.        ... 0.        0.        0.       ]\n",
      " [0.        0.2941742 0.        ... 0.        0.        0.       ]\n",
      " [0.        0.        0.        ... 0.        0.        0.       ]\n",
      " ...\n",
      " [0.        0.        0.        ... 0.        0.        0.       ]\n",
      " [0.        0.        0.        ... 0.        0.        0.       ]\n",
      " [0.        0.        0.        ... 0.        0.        0.       ]]\n",
      "[[0 0 0 ... 0 0 0]\n",
      " [0 3 0 ... 0 0 0]\n",
      " [0 0 0 ... 0 0 0]\n",
      " ...\n",
      " [0 0 0 ... 0 0 0]\n",
      " [0 0 0 ... 0 0 0]\n",
      " [0 0 0 ... 0 0 0]]\n"
     ]
    }
   ],
   "source": [
    "print(attA)\n",
    "print(att)"
   ]
  },
  {
   "cell_type": "code",
   "execution_count": 209,
   "id": "d20c27c5",
   "metadata": {},
   "outputs": [],
   "source": [
    "#Using my vocabulary\n",
    "from sklearn.feature_extraction.text import CountVectorizer #It counts the number of occurances for each word (in vocabulary) in each email\n",
    "from sklearn.feature_extraction.text import TfidfVectorizer #The concept is the same as above but it adds weights instead.\n",
    "clf=CountVectorizer().fit(bagofwords[0]) #Count vectorizer with vocabulary bagofwords\n",
    "vec1 = TfidfVectorizer().fit(bagofwords[0]) #TFIDF with vocabulary bagofwords\n",
    "att=clf.transform(x_train['emails']).toarray() #We transform it into a numpy array\n",
    "attA=vec1.transform(x_train['emails']).toarray() #same. The two arrays att and attA will train our models. two approaches will be used, one for countvectorizer and one for TFIDF and the results will be recorded \n",
    "att1=clf.transform(x_test['emails']).toarray() #These two arrays will help us predicted and evaluate each model\n",
    "attA1=vec1.transform(x_test['emails']).toarray() #Again, it is used one for countvectorizer and one for tfidf"
   ]
  },
  {
   "cell_type": "code",
   "execution_count": 220,
   "id": "267e2d79",
   "metadata": {},
   "outputs": [
    {
     "name": "stdout",
     "output_type": "stream",
     "text": [
      "0.9639175257731959\n",
      "[[1075   16]\n",
      " [  40  421]]\n",
      "0.9722938144329897\n",
      "[[1074   17]\n",
      " [  26  435]]\n"
     ]
    }
   ],
   "source": [
    "#First Model\n",
    "#Gaussian Naive Bayes\n",
    "from sklearn.naive_bayes import GaussianNB\n",
    "from sklearn.metrics import accuracy_score\n",
    "from sklearn import metrics\n",
    "gausNB=GaussianNB()\n",
    "gaus=gausNB.fit(att,y_train['target']) #We train the model CountVecorizer used\n",
    "gaus1=gausNB.fit(attA,y_train['target']) #Tfidf \n",
    "pre=gaus1.predict(attA1) #Predict for tfidf\n",
    "pre1=gaus.predict(att1) #\n",
    "print(accuracy_score(pre,y_test['target']))#TFIDF\n",
    "print(metrics.confusion_matrix(y_test['target'], pre))#TFIDF\n",
    "print(accuracy_score(pre1,y_test['target']))#CountVectorizer\n",
    "print(metrics.confusion_matrix(y_test['target'], pre1))#CountVectorizer"
   ]
  },
  {
   "cell_type": "code",
   "execution_count": 31,
   "id": "fe1dcb03",
   "metadata": {},
   "outputs": [
    {
     "name": "stdout",
     "output_type": "stream",
     "text": [
      "0.9677835051546392\n",
      "[[1079   12]\n",
      " [  38  423]]\n",
      "0.9748711340206185\n",
      "[[1072   19]\n",
      " [  20  441]]\n"
     ]
    }
   ],
   "source": [
    "#Second Model\n",
    "#Multinomial Naive Bayes\n",
    "from sklearn.naive_bayes import MultinomialNB\n",
    "MNB=MultinomialNB()\n",
    "MNB1=MNB.fit(attA,y_train['target']) #Same approach as above\n",
    "MNB2=MNB.fit(att,y_train['target'])\n",
    "PRE=MNB1.predict(attA1)\n",
    "PRE1=MNB2.predict(att1)\n",
    "print(accuracy_score(PRE,y_test['target']))#TFIDF\n",
    "print(metrics.confusion_matrix(y_test['target'], PRE))#TFIDF Mat Train\n",
    "print(accuracy_score(PRE1,y_test['target']))#CountVectorizer\n",
    "print(metrics.confusion_matrix(y_test['target'], PRE1))#CountVectorizer"
   ]
  },
  {
   "cell_type": "code",
   "execution_count": 174,
   "id": "3622565c",
   "metadata": {},
   "outputs": [],
   "source": [
    "#Third Model\n",
    "#Classification Tree\n",
    "from sklearn.tree import DecisionTreeClassifier\n",
    "clft=DecisionTreeClassifier(max_leaf_nodes=250).fit(att,y_train['target'])\n",
    "clft1=DecisionTreeClassifier(max_leaf_nodes=250).fit(attA,y_train['target'])\n"
   ]
  },
  {
   "cell_type": "code",
   "execution_count": 175,
   "id": "861ee8ce",
   "metadata": {},
   "outputs": [
    {
     "name": "stdout",
     "output_type": "stream",
     "text": [
      "0.9432989690721649\n",
      "[[1041   50]\n",
      " [  38  423]]\n",
      "0.9516752577319587\n",
      "[[1047   44]\n",
      " [  31  430]]\n"
     ]
    }
   ],
   "source": [
    "#Prediction and accuracy for 3rd model \n",
    "pred_tree=clft.predict(att1)\n",
    "pred_tree1=clft1.predict(attA1)\n",
    "print(accuracy_score(pred_tree1,y_test['target']))#TFIDF\n",
    "print(metrics.confusion_matrix(y_test['target'], pred_tree1))#TFIDF\n",
    "print(accuracy_score(pred_tree,y_test['target']))#CountVectorizer\n",
    "print(metrics.confusion_matrix(y_test['target'], pred_tree))#CountVectorizer"
   ]
  },
  {
   "cell_type": "code",
   "execution_count": 84,
   "id": "0f5befd8",
   "metadata": {},
   "outputs": [
    {
     "name": "stdout",
     "output_type": "stream",
     "text": [
      "275\n",
      "217\n"
     ]
    }
   ],
   "source": [
    "#Number of nodes\n",
    "print(clft.tree_.node_count)#CountVectorizer\n",
    "print(clft1.tree_.node_count)#TFIDF"
   ]
  },
  {
   "cell_type": "code",
   "execution_count": 168,
   "id": "25021010",
   "metadata": {},
   "outputs": [
    {
     "name": "stdout",
     "output_type": "stream",
     "text": [
      "Time:  26.599735273333255\n"
     ]
    }
   ],
   "source": [
    "#5-Folds Cross Validation to tune the parameter max leaf nodes 100,150,200,250,300\n",
    "from sklearn.model_selection import GridSearchCV #27 minutes\n",
    "import timeit\n",
    "cv = GridSearchCV(estimator=DecisionTreeClassifier(),param_grid={'max_leaf_nodes':[100,150,200,250,300]},cv=5,n_jobs=1)#n_jobs handles the CPU performance\n",
    "start = timeit.default_timer()\n",
    "cross_val=cv.fit(att,y_train['target'])\n",
    "cross_val1=cv.fit(attA,y_train['target'])\n",
    "stop = timeit.default_timer()\n",
    "print('Time: ', (stop - start)/60)"
   ]
  },
  {
   "cell_type": "code",
   "execution_count": 172,
   "id": "2035f366",
   "metadata": {},
   "outputs": [
    {
     "name": "stdout",
     "output_type": "stream",
     "text": [
      "[0.94640884 0.94696133 0.94696133 0.94696133 0.94392265]\n",
      "[0.94640884 0.94696133 0.94696133 0.94696133 0.94392265]\n"
     ]
    }
   ],
   "source": [
    "#Results\n",
    "print(cross_val1.cv_results_['mean_test_score'])\n",
    "print(cross_val.cv_results_['mean_test_score'])"
   ]
  },
  {
   "cell_type": "code",
   "execution_count": 170,
   "id": "0de210c0",
   "metadata": {},
   "outputs": [
    {
     "data": {
      "image/png": "[encoded data removed]",
      "text/plain": [
       "<Figure size 432x288 with 1 Axes>"
      ]
     },
     "metadata": {
      "needs_background": "light"
     },
     "output_type": "display_data"
    }
   ],
   "source": [
    "#We plot the results. the two lines are identical\n",
    "plt.plot([100,150,200,250,300],1-cross_val.cv_results_['mean_test_score'],label='CountVectorizer')\n",
    "plt.plot([100,150,200,250,300],1-cross_val1.cv_results_['mean_test_score'],label='TFIDF')\n",
    "plt.legend()\n",
    "plt.show()"
   ]
  },
  {
   "cell_type": "code",
   "execution_count": 171,
   "id": "ca964e72",
   "metadata": {},
   "outputs": [
    {
     "name": "stdout",
     "output_type": "stream",
     "text": [
      "DecisionTreeClassifier(max_leaf_nodes=250)\n",
      "DecisionTreeClassifier(max_leaf_nodes=250)\n"
     ]
    }
   ],
   "source": [
    "print(cross_val.best_estimator_) #We print the best estimator equivalently best model\n",
    "print(cross_val1.best_estimator_)"
   ]
  },
  {
   "cell_type": "code",
   "execution_count": 173,
   "id": "131ab322",
   "metadata": {},
   "outputs": [
    {
     "name": "stdout",
     "output_type": "stream",
     "text": [
      "0.8885309278350515\n",
      "[[1040   51]\n",
      " [ 122  339]]\n",
      "0.9484536082474226\n",
      "[[1042   49]\n",
      " [  31  430]]\n"
     ]
    }
   ],
   "source": [
    "predi=cross_val.predict(att1) # we predict using the model was created from cross validation\n",
    "predi1=cross_val1.predict(attA1)\n",
    "print(accuracy_score(predi,y_test['target'])) #CountVectorizer\n",
    "print(metrics.confusion_matrix(y_test['target'], predi))\n",
    "print(accuracy_score(predi1,y_test['target']))#tfidf\n",
    "print(metrics.confusion_matrix(y_test['target'], predi1))\n",
    "#better than the previous one"
   ]
  },
  {
   "cell_type": "code",
   "execution_count": 85,
   "id": "16bc34f6",
   "metadata": {},
   "outputs": [],
   "source": [
    "#Fifth model using bagging with bootstrap equals to True and number of models 700. Voting will take place in 700 models and the majority wins\n",
    "from sklearn.ensemble import BaggingClassifier\n",
    "modelara=BaggingClassifier(base_estimator=GaussianNB(),max_samples=700,bootstrap=True)\n"
   ]
  },
  {
   "cell_type": "code",
   "execution_count": 176,
   "id": "b478aa23",
   "metadata": {},
   "outputs": [
    {
     "name": "stdout",
     "output_type": "stream",
     "text": [
      "time in mins: 2.831422133333399\n"
     ]
    }
   ],
   "source": [
    "#We train two models for countvectorizer and tfidf\n",
    "start = timeit.default_timer()\n",
    "modelara1=modelara.fit(attA,y_train['target'])\n",
    "modelara2=modelara.fit(att,y_train['target'])\n",
    "end=timeit.default_timer()\n",
    "print('time in mins:',(end-start)/60)"
   ]
  },
  {
   "cell_type": "code",
   "execution_count": 177,
   "id": "4ab51f92",
   "metadata": {},
   "outputs": [
    {
     "name": "stdout",
     "output_type": "stream",
     "text": [
      "0.9529639175257731\n",
      "0.9536082474226805\n"
     ]
    }
   ],
   "source": [
    "print(accuracy_score(modelara1.predict(attA1),y_test['target']))#TFIDF\n",
    "print(accuracy_score(modelara2.predict(att1),y_test['target']))#CountVectorizer"
   ]
  },
  {
   "cell_type": "code",
   "execution_count": 133,
   "id": "1a8d2930",
   "metadata": {},
   "outputs": [],
   "source": [
    "# vote between 3 models. the majority wins\n",
    "def finalmodelafterbagging(model1,att1,model2,att2,model3,att3): #Models with the correct arrays\n",
    "    global suming #Global for giving the choice to user to call the value outside of the function\n",
    "    prediction1=model1.predict(att1) #first model prediction\n",
    "    prediction2=model2.predict(att2) #Second model prediction\n",
    "    prediction3=model3.predict(att3) #Third model prefiction\n",
    "    suming=(prediction1+prediction2+prediction3)/3 #Devide by 3. 3,2,1 and 0 are the value after the addition. deviding by 3 this values converted to 1, 0.6666, 0.3333 and 0  \n",
    "    suming[suming<0.5]=0 #If we have less than 0.5 means that at least 2 out of 3 models predicted 0. They are the majority and zero will be the final prediction \n",
    "    suming[suming>=0.5]=1 #If we have more than 0.5 means that at least 2 out of 3 models predicted 1. They are the majority and 1 will be the final prediction\n",
    "    return(accuracy_score(suming,y_test['target'])) #Return the accuracy and the array as it is global"
   ]
  },
  {
   "cell_type": "code",
   "execution_count": 179,
   "id": "a7fb7758",
   "metadata": {},
   "outputs": [
    {
     "name": "stdout",
     "output_type": "stream",
     "text": [
      "time:  22.40808037\n"
     ]
    }
   ],
   "source": [
    "import itertools #24 minutes and 31 secs\n",
    "#The number of models that have been created\n",
    "start= timeit.default_timer()\n",
    "listofmodels={0:gaus,1:gaus1,2:MNB2,3:MNB1,4:clft,5:clft1,6:cross_val,7:cross_val1,8:modelara2,9:modelara1}\n",
    "di={} #an empty dictionart\n",
    "for i in itertools.combinations(listofmodels, 3): # all the combinations of 3\n",
    "    if i[0]%2==0: #the if statements were used to assign the correct array. for example gaus,MNB2,clft,cross_val and modelara2 need att1 to predict\n",
    "        a=att1\n",
    "    else:\n",
    "        a=attA1\n",
    "    if i[1]%2==0:\n",
    "        b=att1\n",
    "    else:\n",
    "        b=attA1\n",
    "    if i[2]%2==0:\n",
    "        c=att1\n",
    "    else:\n",
    "        c=attA1\n",
    "    char=str(i[0])+str(i[1])+str(i[2]) #the key will be the best combination of the models. 026 key means that the models 0,2 and 6 will give the best prediction after voting\n",
    "    di[char]=finalmodelafterbagging(listofmodels[i[0]],a,listofmodels[i[1]],b,listofmodels[i[2]],c) #We pass 3 models and the result will be appended into dictionary\n",
    "end=timeit.default_timer()\n",
    "print('time: ',(end-start)/60)"
   ]
  },
  {
   "cell_type": "code",
   "execution_count": 180,
   "id": "102133b5",
   "metadata": {},
   "outputs": [
    {
     "name": "stdout",
     "output_type": "stream",
     "text": [
      "027\n",
      "0.9826030927835051\n"
     ]
    }
   ],
   "source": [
    "#Best model with the accuracy score\n",
    "print(max(di, key=di.get))\n",
    "print(max(di.values()))"
   ]
  },
  {
   "cell_type": "code",
   "execution_count": 181,
   "id": "f122a763",
   "metadata": {},
   "outputs": [
    {
     "data": {
      "image/png": "[encoded data removed]",
      "text/plain": [
       "<Figure size 432x288 with 2 Axes>"
      ]
     },
     "metadata": {
      "needs_background": "light"
     },
     "output_type": "display_data"
    }
   ],
   "source": [
    "#The final model with the confusion matrix\n",
    "import seaborn as sns\n",
    "finalmodelafterbagging(gaus,att1,MNB2,att1,cross_val,att1) #This is the final model\n",
    "cf_matrix=metrics.confusion_matrix(y_test['target'], suming) #suming is the prediction of the final model\n",
    "ax = sns.heatmap(cf_matrix, annot=True, cmap='Greens',fmt = \"\")"
   ]
  },
  {
   "cell_type": "code",
   "execution_count": 183,
   "id": "207b4851",
   "metadata": {},
   "outputs": [
    {
     "data": {
      "text/plain": [
       "<AxesSubplot:>"
      ]
     },
     "execution_count": 183,
     "metadata": {},
     "output_type": "execute_result"
    },
    {
     "data": {
      "image/png": "[encoded data removed]",
      "text/plain": [
       "<Figure size 432x288 with 2 Axes>"
      ]
     },
     "metadata": {
      "needs_background": "light"
     },
     "output_type": "display_data"
    }
   ],
   "source": [
    "#Voting using all the models less accuracy we select the previous one\n",
    "dada=np.zeros(1552)\n",
    "\n",
    "for i in listofmodels.keys():\n",
    "    if i%2==0:\n",
    "        dada=dada+listofmodels[i].predict(att1)\n",
    "    else:\n",
    "        dada=dada+listofmodels[i].predict(attA1)\n",
    "        \n",
    "dada=dada/9\n",
    "dada[dada<0.5]=0\n",
    "dada[dada>=0.5]=1\n",
    "cf_matrix1=metrics.confusion_matrix(y_test['target'], dada)\n",
    "sns.heatmap(cf_matrix1, annot=True, cmap='Greens',fmt='')"
   ]
  }
 ],
 "metadata": {
  "kernelspec": {
   "display_name": "Python 3",
   "language": "python",
   "name": "python3"
  },
  "language_info": {
   "codemirror_mode": {
    "name": "ipython",
    "version": 3
   },
   "file_extension": ".py",
   "mimetype": "text/x-python",
   "name": "python",
   "nbconvert_exporter": "python",
   "pygments_lexer": "ipython3",
   "version": "3.8.8"
  }
 },
 "nbformat": 4,
 "nbformat_minor": 5
}
